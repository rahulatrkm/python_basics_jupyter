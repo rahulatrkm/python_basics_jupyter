{
 "cells": [
  {
   "cell_type": "markdown",
   "metadata": {},
   "source": [
    "# list"
   ]
  },
  {
   "cell_type": "code",
   "execution_count": 5,
   "metadata": {
    "scrolled": true
   },
   "outputs": [
    {
     "name": "stdout",
     "output_type": "stream",
     "text": [
      "['Math', 'English', 'Sanskrit']\n"
     ]
    }
   ],
   "source": [
    "courses = ['Math', 'English', 'Sanskrit']\n",
    "print(courses)"
   ]
  },
  {
   "cell_type": "markdown",
   "metadata": {},
   "source": [
    "# length of list"
   ]
  },
  {
   "cell_type": "code",
   "execution_count": 6,
   "metadata": {},
   "outputs": [
    {
     "name": "stdout",
     "output_type": "stream",
     "text": [
      "3\n"
     ]
    }
   ],
   "source": [
    "print(len(courses))"
   ]
  },
  {
   "cell_type": "markdown",
   "metadata": {},
   "source": [
    "# accessing a word"
   ]
  },
  {
   "cell_type": "code",
   "execution_count": 7,
   "metadata": {},
   "outputs": [
    {
     "name": "stdout",
     "output_type": "stream",
     "text": [
      "Math\n"
     ]
    }
   ],
   "source": [
    "print(courses[0])"
   ]
  },
  {
   "cell_type": "markdown",
   "metadata": {},
   "source": [
    "# last item can be accessed also with the help of -1 index"
   ]
  },
  {
   "cell_type": "code",
   "execution_count": 8,
   "metadata": {},
   "outputs": [
    {
     "name": "stdout",
     "output_type": "stream",
     "text": [
      "Sanskrit\n",
      "h\n"
     ]
    }
   ],
   "source": [
    "print(courses[-1])\n",
    "print(courses[-2][-1])"
   ]
  },
  {
   "cell_type": "markdown",
   "metadata": {},
   "source": [
    "# access upto that index"
   ]
  },
  {
   "cell_type": "code",
   "execution_count": 9,
   "metadata": {},
   "outputs": [
    {
     "name": "stdout",
     "output_type": "stream",
     "text": [
      "['Math', 'English']\n"
     ]
    }
   ],
   "source": [
    "print(courses[:2])"
   ]
  },
  {
   "cell_type": "markdown",
   "metadata": {},
   "source": [
    "### accessing the list and skipping the element with step\n",
    "    list[start:end:step]"
   ]
  },
  {
   "cell_type": "code",
   "execution_count": 10,
   "metadata": {},
   "outputs": [
    {
     "name": "stdout",
     "output_type": "stream",
     "text": [
      "[2, 3, 4, 5, 6, 7, 8, 9, 10, 11]\n",
      "[2, 5, 8, 11]\n",
      "[0, 2, 4, 6, 8, 10]\n"
     ]
    }
   ],
   "source": [
    "new_list = [0, 1, 2, 3, 4, 5, 6, 7, 8, 9, 10, 11]\n",
    "print(new_list[2:])\n",
    "print(new_list[2::3])\n",
    "print(new_list[0:-1:2])"
   ]
  },
  {
   "cell_type": "markdown",
   "metadata": {},
   "source": [
    "# adding element to a list"
   ]
  },
  {
   "cell_type": "code",
   "execution_count": 11,
   "metadata": {},
   "outputs": [
    {
     "name": "stdout",
     "output_type": "stream",
     "text": [
      "['Math', 'English', 'Sanskrit', 'python']\n"
     ]
    }
   ],
   "source": [
    "courses.append('python')\n",
    "print (courses)"
   ]
  },
  {
   "cell_type": "markdown",
   "metadata": {},
   "source": [
    "# insering in a list\n",
    "# syntax\n",
    "## list.insert(index, 'element to be inserted')"
   ]
  },
  {
   "cell_type": "code",
   "execution_count": 12,
   "metadata": {},
   "outputs": [
    {
     "name": "stdout",
     "output_type": "stream",
     "text": [
      "['Math', 'Comp', 'English', 'Sanskrit', 'python']\n"
     ]
    }
   ],
   "source": [
    "courses.insert(1, \"Comp\")\n",
    "print(courses)"
   ]
  },
  {
   "cell_type": "markdown",
   "metadata": {},
   "source": [
    "# list can also be inserted \n",
    "# list with in a list"
   ]
  },
  {
   "cell_type": "code",
   "execution_count": 13,
   "metadata": {},
   "outputs": [
    {
     "name": "stdout",
     "output_type": "stream",
     "text": [
      "['Math', ['ECE', 'DLD', 'LNT'], 'Comp', 'English', 'Sanskrit', 'python']\n"
     ]
    }
   ],
   "source": [
    "a = ['ECE', 'DLD', 'LNT']\n",
    "courses.insert(1, a)\n",
    "print (courses)"
   ]
  },
  {
   "cell_type": "markdown",
   "metadata": {},
   "source": [
    "# above can be avoided using extend"
   ]
  },
  {
   "cell_type": "markdown",
   "metadata": {},
   "source": [
    "list can be extended by using \n",
    "list.extend(a)"
   ]
  },
  {
   "cell_type": "code",
   "execution_count": 14,
   "metadata": {
    "scrolled": false
   },
   "outputs": [
    {
     "name": "stdout",
     "output_type": "stream",
     "text": [
      "['Math', ['ECE', 'DLD', 'LNT'], 'Comp', 'English', 'Sanskrit', 'python', 'ECE', 'DLD', 'LNT']\n"
     ]
    }
   ],
   "source": [
    "courses.extend(a)\n",
    "print(courses)"
   ]
  },
  {
   "cell_type": "markdown",
   "metadata": {},
   "source": [
    "# removing\n",
    "\n",
    "removing item from a list\n",
    "\n",
    "# syntax\n",
    "\n",
    "list.remove('element to be removed')"
   ]
  },
  {
   "cell_type": "code",
   "execution_count": 15,
   "metadata": {},
   "outputs": [
    {
     "name": "stdout",
     "output_type": "stream",
     "text": [
      "['Math', 'Comp', 'English', 'Sanskrit', 'python', 'ECE', 'DLD', 'LNT']\n"
     ]
    }
   ],
   "source": [
    "courses.remove(a)\n",
    "print(courses)"
   ]
  },
  {
   "cell_type": "markdown",
   "metadata": {},
   "source": [
    "# popping the list\n",
    "\n",
    "syntax:\n",
    "popped = list.pop()\n",
    "\n",
    "Will remove the last value of the list(by default)\n",
    "popped will return the last value \n",
    "while the list has been shrinked"
   ]
  },
  {
   "cell_type": "code",
   "execution_count": 16,
   "metadata": {},
   "outputs": [
    {
     "name": "stdout",
     "output_type": "stream",
     "text": [
      "LNT\n",
      "['Math', 'Comp', 'English', 'Sanskrit', 'python', 'ECE', 'DLD']\n"
     ]
    }
   ],
   "source": [
    "z = courses.pop()\n",
    "print(z)\n",
    "print(courses)"
   ]
  },
  {
   "cell_type": "markdown",
   "metadata": {},
   "source": [
    "# reversing the list\n",
    "\n",
    "syntax:\n",
    "list.reverse()"
   ]
  },
  {
   "cell_type": "code",
   "execution_count": 17,
   "metadata": {
    "scrolled": true
   },
   "outputs": [
    {
     "name": "stdout",
     "output_type": "stream",
     "text": [
      "['DLD', 'ECE', 'python', 'Sanskrit', 'English', 'Comp', 'Math']\n"
     ]
    }
   ],
   "source": [
    "courses.reverse()\n",
    "print(courses)"
   ]
  },
  {
   "cell_type": "markdown",
   "metadata": {},
   "source": [
    "# Sorting the list\n",
    "\n",
    "syntax:\n",
    "list.sort()\n",
    "\n",
    "will sort the list in alphabetical order"
   ]
  },
  {
   "cell_type": "code",
   "execution_count": 18,
   "metadata": {
    "scrolled": false
   },
   "outputs": [
    {
     "name": "stdout",
     "output_type": "stream",
     "text": [
      "['Comp', 'DLD', 'ECE', 'English', 'Math', 'Sanskrit', 'python']\n"
     ]
    }
   ],
   "source": [
    "c = courses.sort()\n",
    "print(courses)"
   ]
  },
  {
   "cell_type": "markdown",
   "metadata": {},
   "source": [
    "doing above with number \n",
    "and also sorting in descending order"
   ]
  },
  {
   "cell_type": "code",
   "execution_count": 19,
   "metadata": {
    "scrolled": true
   },
   "outputs": [
    {
     "name": "stdout",
     "output_type": "stream",
     "text": [
      "[1, 1, 5, 8, 9, 10, 18, 45, 45, 78]\n",
      "[78, 45, 45, 18, 10, 9, 8, 5, 1, 1]\n",
      "['python', 'Sanskrit', 'Math', 'English', 'ECE', 'DLD', 'Comp']\n"
     ]
    }
   ],
   "source": [
    "num = [1, 5, 8, 9, 10, 45, 45, 78, 1, 18]\n",
    "num.sort()\n",
    "print(num)\n",
    "num.sort(reverse = True)\n",
    "print(num)\n",
    "courses.sort(reverse = True)\n",
    "print(courses)"
   ]
  },
  {
   "cell_type": "markdown",
   "metadata": {},
   "source": [
    "Sorted list in another without changig the the original list"
   ]
  },
  {
   "cell_type": "code",
   "execution_count": 20,
   "metadata": {},
   "outputs": [
    {
     "name": "stdout",
     "output_type": "stream",
     "text": [
      "['Comp', 'DLD', 'ECE', 'English', 'Math', 'Sanskrit', 'python']\n",
      "[1, 1, 5, 8, 9, 10, 18, 45, 45, 78]\n"
     ]
    }
   ],
   "source": [
    "sorted_courses = sorted(courses)\n",
    "print(sorted_courses)\n",
    "sorted_num = sorted(num)\n",
    "print(sorted_num)"
   ]
  },
  {
   "cell_type": "markdown",
   "metadata": {},
   "source": [
    "sum, min and max of a list"
   ]
  },
  {
   "cell_type": "code",
   "execution_count": 21,
   "metadata": {},
   "outputs": [
    {
     "name": "stdout",
     "output_type": "stream",
     "text": [
      "Comp\n",
      "python\n",
      "1\n",
      "78\n",
      "220\n"
     ]
    }
   ],
   "source": [
    "# string\n",
    "print(min(courses))\n",
    "print(max(courses))\n",
    "\n",
    "# number list\n",
    "print(min(num))\n",
    "print(max(num))\n",
    "print(sum(num))"
   ]
  },
  {
   "cell_type": "markdown",
   "metadata": {},
   "source": [
    "# index of some element in a list\n",
    "\n",
    "syntax:\n",
    "list.index('elment whose index is needed')"
   ]
  },
  {
   "cell_type": "code",
   "execution_count": 22,
   "metadata": {
    "scrolled": true
   },
   "outputs": [
    {
     "name": "stdout",
     "output_type": "stream",
     "text": [
      "['python', 'Sanskrit', 'Math', 'English', 'ECE', 'DLD', 'Comp']\n",
      "6\n"
     ]
    }
   ],
   "source": [
    "print(courses)\n",
    "print(courses.index('Comp'))"
   ]
  },
  {
   "cell_type": "markdown",
   "metadata": {},
   "source": [
    "# checking whether the element is in the list or not\n",
    "\n",
    "Syntax: \n",
    "('Element' in List)"
   ]
  },
  {
   "cell_type": "code",
   "execution_count": 23,
   "metadata": {},
   "outputs": [
    {
     "name": "stdout",
     "output_type": "stream",
     "text": [
      "False\n",
      "True\n"
     ]
    }
   ],
   "source": [
    "print('Art' in  courses)\n",
    "print('Math' in courses)"
   ]
  },
  {
   "cell_type": "markdown",
   "metadata": {},
   "source": [
    "# for loop"
   ]
  },
  {
   "cell_type": "code",
   "execution_count": 24,
   "metadata": {
    "scrolled": true
   },
   "outputs": [
    {
     "name": "stdout",
     "output_type": "stream",
     "text": [
      "python\n",
      "Sanskrit\n",
      "Math\n",
      "English\n",
      "ECE\n",
      "DLD\n",
      "Comp\n"
     ]
    }
   ],
   "source": [
    "for subj in courses:\n",
    "    print(subj)"
   ]
  },
  {
   "cell_type": "markdown",
   "metadata": {},
   "source": [
    "We can also get the  index of elements of the list by using the <B>enumrate</B> function"
   ]
  },
  {
   "cell_type": "code",
   "execution_count": 25,
   "metadata": {},
   "outputs": [
    {
     "name": "stdout",
     "output_type": "stream",
     "text": [
      "0 python\n",
      "1 Sanskrit\n",
      "2 Math\n",
      "3 English\n",
      "4 ECE\n",
      "5 DLD\n",
      "6 Comp\n"
     ]
    }
   ],
   "source": [
    "for number, subj in enumerate(courses):\n",
    "    print(number, subj)"
   ]
  },
  {
   "cell_type": "markdown",
   "metadata": {},
   "source": [
    "Cont start at 1 or whatever number we want"
   ]
  },
  {
   "cell_type": "code",
   "execution_count": 26,
   "metadata": {},
   "outputs": [
    {
     "name": "stdout",
     "output_type": "stream",
     "text": [
      "1 python\n",
      "2 Sanskrit\n",
      "3 Math\n",
      "4 English\n",
      "5 ECE\n",
      "6 DLD\n",
      "7 Comp\n"
     ]
    }
   ],
   "source": [
    "for number, subj in enumerate(courses, start = 1):\n",
    "    print(number, subj)"
   ]
  },
  {
   "cell_type": "code",
   "execution_count": 27,
   "metadata": {},
   "outputs": [
    {
     "name": "stdout",
     "output_type": "stream",
     "text": [
      "5 python\n",
      "6 Sanskrit\n",
      "7 Math\n",
      "8 English\n",
      "9 ECE\n",
      "10 DLD\n",
      "11 Comp\n"
     ]
    }
   ],
   "source": [
    "for number, subj in enumerate(courses, start = 5):\n",
    "    print(number, subj)"
   ]
  },
  {
   "cell_type": "markdown",
   "metadata": {},
   "source": [
    "changing the list to comma separated value string or hyphen or whatever we want\n",
    "\n",
    "# in this way the list is changed to a string"
   ]
  },
  {
   "cell_type": "code",
   "execution_count": 28,
   "metadata": {},
   "outputs": [
    {
     "name": "stdout",
     "output_type": "stream",
     "text": [
      "python, Sanskrit, Math, English, ECE, DLD, Comp\n"
     ]
    }
   ],
   "source": [
    "comma_courses = ', '.join(courses)\n",
    "print(comma_courses)"
   ]
  },
  {
   "cell_type": "code",
   "execution_count": 29,
   "metadata": {},
   "outputs": [
    {
     "name": "stdout",
     "output_type": "stream",
     "text": [
      "python - Sanskrit - Math - English - ECE - DLD - Comp\n"
     ]
    }
   ],
   "source": [
    "hyphen_courses = ' - '.join(courses)\n",
    "print(hyphen_courses)"
   ]
  },
  {
   "cell_type": "markdown",
   "metadata": {},
   "source": [
    "# changing the string into a list\n",
    "\n",
    "Syntax:\n",
    "new_list = string.split(' - ')\n",
    "\n",
    "if the string is hyphen separated"
   ]
  },
  {
   "cell_type": "code",
   "execution_count": 30,
   "metadata": {},
   "outputs": [
    {
     "name": "stdout",
     "output_type": "stream",
     "text": [
      "['python', 'Sanskrit', 'Math', 'English', 'ECE', 'DLD', 'Comp']\n"
     ]
    }
   ],
   "source": [
    "new_list =  comma_courses.split(', ')\n",
    "print(new_list)"
   ]
  },
  {
   "cell_type": "code",
   "execution_count": 31,
   "metadata": {},
   "outputs": [
    {
     "name": "stdout",
     "output_type": "stream",
     "text": [
      "['python', 'Sanskrit', 'Math', 'English', 'ECE', 'DLD', 'Comp']\n"
     ]
    }
   ],
   "source": [
    "new_list1 =  hyphen_courses.split(' - ')\n",
    "print(new_list1)"
   ]
  },
  {
   "cell_type": "markdown",
   "metadata": {},
   "source": [
    "# Tuples\n",
    "    Can't modify the tuples\n",
    "    Tuples : Immutable\n",
    "    List : Mutable"
   ]
  },
  {
   "cell_type": "code",
   "execution_count": 32,
   "metadata": {},
   "outputs": [
    {
     "name": "stdout",
     "output_type": "stream",
     "text": [
      "('DLD', 'EDC', 'Maths', 'LNT', 'EM')\n"
     ]
    }
   ],
   "source": [
    "# checkout the braces\n",
    "tuple_1 = ('DLD', 'EDC', 'Maths', 'LNT', 'EM')\n",
    "print(tuple_1)\n",
    "# uncomment below to see the error msg as tuples can't be changed, they are fixed\n",
    "#tuple_1[0] = 'ED'\n",
    "#print(tuple_1)"
   ]
  },
  {
   "cell_type": "markdown",
   "metadata": {},
   "source": [
    "# Sets\n",
    "    Don't care about order\n",
    "    Don't have duplicates (automatically throw out the duplicates)\n",
    "    "
   ]
  },
  {
   "cell_type": "code",
   "execution_count": 33,
   "metadata": {
    "scrolled": true
   },
   "outputs": [
    {
     "name": "stdout",
     "output_type": "stream",
     "text": [
      "{'DLD', 'EDC', 'LNT', 'Maths', 'Math', 'EM'}\n",
      "{'DLD', 'EDC', 'LNT', 'Maths', 'EM'}\n"
     ]
    }
   ],
   "source": [
    "set_1 = {'Math', 'DLD', 'EDC', 'Maths', 'LNT', 'EM'}\n",
    "print(set_1)\n",
    "# checkout maths in the output\n",
    "set_2 = {'Maths', 'DLD', 'EDC', 'Maths', 'LNT', 'EM'}\n",
    "print(set_2)"
   ]
  },
  {
   "cell_type": "markdown",
   "metadata": {},
   "source": [
    "Sets can do the membership test very efficiebtly than tuples and list"
   ]
  },
  {
   "cell_type": "code",
   "execution_count": 34,
   "metadata": {},
   "outputs": [
    {
     "name": "stdout",
     "output_type": "stream",
     "text": [
      "False\n",
      "True\n"
     ]
    }
   ],
   "source": [
    "print('Math' in set_2)\n",
    "print('Maths' in set_2)"
   ]
  },
  {
   "cell_type": "markdown",
   "metadata": {},
   "source": [
    "#### Intersection of two sets"
   ]
  },
  {
   "cell_type": "code",
   "execution_count": 35,
   "metadata": {},
   "outputs": [
    {
     "name": "stdout",
     "output_type": "stream",
     "text": [
      "{'DLD', 'EDC', 'Maths', 'LNT', 'EM'}\n"
     ]
    }
   ],
   "source": [
    "print(set_1.intersection(set_2))"
   ]
  },
  {
   "cell_type": "markdown",
   "metadata": {},
   "source": [
    "#### Difference"
   ]
  },
  {
   "cell_type": "code",
   "execution_count": 36,
   "metadata": {},
   "outputs": [
    {
     "name": "stdout",
     "output_type": "stream",
     "text": [
      "{'Math'}\n"
     ]
    }
   ],
   "source": [
    "print(set_1.difference(set_2))"
   ]
  },
  {
   "cell_type": "markdown",
   "metadata": {},
   "source": [
    "#### Union"
   ]
  },
  {
   "cell_type": "code",
   "execution_count": 37,
   "metadata": {},
   "outputs": [
    {
     "name": "stdout",
     "output_type": "stream",
     "text": [
      "{'DLD', 'EDC', 'Math', 'Maths', 'LNT', 'EM'}\n"
     ]
    }
   ],
   "source": [
    "print(set_1.union(set_2))"
   ]
  },
  {
   "cell_type": "markdown",
   "metadata": {},
   "source": [
    "## Creating Empty list, tuple, set"
   ]
  },
  {
   "cell_type": "code",
   "execution_count": 38,
   "metadata": {
    "collapsed": true
   },
   "outputs": [],
   "source": [
    "empty_list = []\n",
    "empty_list_1 = list()\n",
    "\n",
    "empty_tuple = ()\n",
    "empty_tuple = tuple()\n",
    "\n",
    "# below won't create a set, but it would create a dictionary\n",
    "empty_set = {}\n",
    "# below is the correct way to create the empty set\n",
    "empty_set = set()"
   ]
  },
  {
   "cell_type": "code",
   "execution_count": 39,
   "metadata": {},
   "outputs": [
    {
     "ename": "SyntaxError",
     "evalue": "invalid syntax (<ipython-input-39-42716252b599>, line 5)",
     "output_type": "error",
     "traceback": [
      "\u001b[1;36m  File \u001b[1;32m\"<ipython-input-39-42716252b599>\"\u001b[1;36m, line \u001b[1;32m5\u001b[0m\n\u001b[1;33m    temp++\u001b[0m\n\u001b[1;37m          ^\u001b[0m\n\u001b[1;31mSyntaxError\u001b[0m\u001b[1;31m:\u001b[0m invalid syntax\n"
     ]
    }
   ],
   "source": [
    "print('Rahul')\n",
    "print(\"\")\n",
    "print('Rahul')\n",
    "temp = 0\n",
    "temp++"
   ]
  }
 ],
 "metadata": {
  "kernelspec": {
   "display_name": "Python 3",
   "language": "python",
   "name": "python3"
  },
  "language_info": {
   "codemirror_mode": {
    "name": "ipython",
    "version": 3
   },
   "file_extension": ".py",
   "mimetype": "text/x-python",
   "name": "python",
   "nbconvert_exporter": "python",
   "pygments_lexer": "ipython3",
   "version": "3.6.3"
  }
 },
 "nbformat": 4,
 "nbformat_minor": 2
}
