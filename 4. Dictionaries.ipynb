{
 "cells": [
  {
   "cell_type": "markdown",
   "metadata": {},
   "source": [
    "# Dictionary\n",
    "    (empty intialization)\n",
    "    name_of_dictionary = {}\n",
    "    \n",
    "    name_of_dictionary = {'key' : ['value', 'value1', 'value2'], 'key1' : 'value3', 'key3': 'value3'}"
   ]
  },
  {
   "cell_type": "code",
   "execution_count": 1,
   "metadata": {},
   "outputs": [
    {
     "name": "stdout",
     "output_type": "stream",
     "text": [
      "{'name': 'Rahul', 'age': '19', 'subject': ['DLD', 'EDC', 'LNT', 'EM']}\n"
     ]
    }
   ],
   "source": [
    "student = {'name' : 'Rahul', 'age' : '19', 'subject' : ['DLD', 'EDC', 'LNT', 'EM']}\n",
    "print(student)"
   ]
  },
  {
   "cell_type": "markdown",
   "metadata": {},
   "source": [
    "#### Accessing any key in the dictionary"
   ]
  },
  {
   "cell_type": "code",
   "execution_count": 2,
   "metadata": {},
   "outputs": [
    {
     "name": "stdout",
     "output_type": "stream",
     "text": [
      "Rahul\n"
     ]
    }
   ],
   "source": [
    "print(student['name'])"
   ]
  },
  {
   "cell_type": "markdown",
   "metadata": {},
   "source": [
    "##### accessing values in another way\n",
    "    Also settung the default value for the key which doesn't exist"
   ]
  },
  {
   "cell_type": "code",
   "execution_count": 3,
   "metadata": {},
   "outputs": [
    {
     "name": "stdout",
     "output_type": "stream",
     "text": [
      "Rahul\n",
      "Rahul\n",
      "default value\n"
     ]
    }
   ],
   "source": [
    "print(student.get('name'))\n",
    "print(student.get('name', 'default value'))\n",
    "print(student.get('not in the list', 'default value'))"
   ]
  },
  {
   "cell_type": "markdown",
   "metadata": {},
   "source": [
    "#### adding a key in the list"
   ]
  },
  {
   "cell_type": "code",
   "execution_count": 4,
   "metadata": {},
   "outputs": [
    {
     "name": "stdout",
     "output_type": "stream",
     "text": [
      "{'name': 'Rahul', 'age': '19', 'subject': ['DLD', 'EDC', 'LNT', 'EM'], 'phone': '7758013211'}\n"
     ]
    }
   ],
   "source": [
    "student['phone'] = '7758013211'\n",
    "print(student)"
   ]
  },
  {
   "cell_type": "markdown",
   "metadata": {},
   "source": [
    "##### updating the value in the list "
   ]
  },
  {
   "cell_type": "code",
   "execution_count": 5,
   "metadata": {},
   "outputs": [
    {
     "name": "stdout",
     "output_type": "stream",
     "text": [
      "{'name': 'Jane', 'age': '19', 'subject': ['DLD', 'EDC', 'LNT', 'EM'], 'phone': '7758013211'}\n"
     ]
    }
   ],
   "source": [
    "student['name'] = 'Jane'\n",
    "print(student)"
   ]
  },
  {
   "cell_type": "markdown",
   "metadata": {},
   "source": [
    "##### updating more than one key"
   ]
  },
  {
   "cell_type": "code",
   "execution_count": 6,
   "metadata": {},
   "outputs": [
    {
     "name": "stdout",
     "output_type": "stream",
     "text": [
      "{'name': 'Jane', 'age': '18', 'subject': ['DLD', 'EDC', 'LNT', 'EM'], 'phone': 'not found'}\n"
     ]
    }
   ],
   "source": [
    "student.update({'age' : '18', 'phone' : 'not found'})\n",
    "print(student)"
   ]
  },
  {
   "cell_type": "markdown",
   "metadata": {},
   "source": [
    "##### Deleting the key"
   ]
  },
  {
   "cell_type": "code",
   "execution_count": 7,
   "metadata": {},
   "outputs": [
    {
     "name": "stdout",
     "output_type": "stream",
     "text": [
      "{'name': 'Jane', 'subject': ['DLD', 'EDC', 'LNT', 'EM'], 'phone': 'not found'}\n"
     ]
    }
   ],
   "source": [
    "del student['age']\n",
    "print(student)"
   ]
  },
  {
   "cell_type": "markdown",
   "metadata": {},
   "source": [
    "##### popping the key(accessing the key and delting it from the dictionary)"
   ]
  },
  {
   "cell_type": "code",
   "execution_count": 8,
   "metadata": {},
   "outputs": [
    {
     "name": "stdout",
     "output_type": "stream",
     "text": [
      "{'name': 'Jane', 'subject': ['DLD', 'EDC', 'LNT', 'EM']}\n",
      "not found\n"
     ]
    }
   ],
   "source": [
    "phone = student.pop('phone')\n",
    "print(student)\n",
    "print(phone)"
   ]
  },
  {
   "cell_type": "markdown",
   "metadata": {},
   "source": [
    "### length, keys, values, keys&values"
   ]
  },
  {
   "cell_type": "code",
   "execution_count": 9,
   "metadata": {},
   "outputs": [
    {
     "name": "stdout",
     "output_type": "stream",
     "text": [
      "2\n",
      "dict_keys(['name', 'subject'])\n",
      "dict_values(['Jane', ['DLD', 'EDC', 'LNT', 'EM']])\n",
      "dict_items([('name', 'Jane'), ('subject', ['DLD', 'EDC', 'LNT', 'EM'])])\n"
     ]
    }
   ],
   "source": [
    "print(len(student))\n",
    "print(student.keys())\n",
    "print(student.values())\n",
    "print(student.items())"
   ]
  },
  {
   "cell_type": "markdown",
   "metadata": {},
   "source": [
    "### iterating through the dictionary"
   ]
  },
  {
   "cell_type": "code",
   "execution_count": 10,
   "metadata": {},
   "outputs": [
    {
     "name": "stdout",
     "output_type": "stream",
     "text": [
      "name\n",
      "subject\n"
     ]
    }
   ],
   "source": [
    "for key in student:\n",
    "    print(key)"
   ]
  },
  {
   "cell_type": "code",
   "execution_count": 11,
   "metadata": {},
   "outputs": [
    {
     "name": "stdout",
     "output_type": "stream",
     "text": [
      "name\n",
      "Jane\n",
      "subject\n",
      "['DLD', 'EDC', 'LNT', 'EM']\n"
     ]
    }
   ],
   "source": [
    "for key,value in student.items() :\n",
    "    print(key)\n",
    "    print(value)"
   ]
  }
 ],
 "metadata": {
  "kernelspec": {
   "display_name": "Python 3",
   "language": "python",
   "name": "python3"
  },
  "language_info": {
   "codemirror_mode": {
    "name": "ipython",
    "version": 3
   },
   "file_extension": ".py",
   "mimetype": "text/x-python",
   "name": "python",
   "nbconvert_exporter": "python",
   "pygments_lexer": "ipython3",
   "version": "3.6.3"
  }
 },
 "nbformat": 4,
 "nbformat_minor": 2
}
